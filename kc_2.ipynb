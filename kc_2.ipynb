{
 "cells": [
  {
   "cell_type": "code",
   "execution_count": null,
   "metadata": {},
   "outputs": [],
   "source": [
    "import pandas as pd \n",
    "import seaborn as sns\n",
    "import matplotlib.pyplot as plt\n",
    "import csv"
   ]
  },
  {
   "cell_type": "code",
   "execution_count": null,
   "metadata": {},
   "outputs": [],
   "source": [
    "df = pd.read_csv('assets/world-happiness-report-2015-2022-cleaned.csv', index_col=0)\n",
    "df.head()"
   ]
  },
  {
   "cell_type": "code",
   "execution_count": null,
   "metadata": {},
   "outputs": [],
   "source": [
    "df[\"Happiness_Score\"] = pd.to_numeric(df[\"Happiness_Score\"], downcast=\"float\")\n",
    "df = df.astype({'Economy':'float','Family':'float', 'Health':'float','Freedom':'float', 'Trust':'float','Generosity':'float'})"
   ]
  },
  {
   "cell_type": "code",
   "execution_count": null,
   "metadata": {},
   "outputs": [],
   "source": [
    "# year is the year to compare, column is the column you wish to compare against Happiness Score, and y_label is the label for the y axis.\n",
    "\n",
    "def annual_chart(year, column, y_label):\n",
    "    temp_df = df.loc[df['Year']==year]\n",
    "\n",
    "    sns.set(rc={'figure.figsize':(100, 50)})\n",
    "    sns.scatterplot(x=temp_df['Happiness_Score'], y=temp_df[column], s=300)\n",
    "    sns.regplot(x=temp_df['Happiness_Score'], y=temp_df[column], data=temp_df)\n",
    "    plt.title(\"{} Happiness Score compared to {} Score\".format(year, column), fontsize=60)\n",
    "    plt.xlabel('Happiness Score', fontsize=40)\n",
    "    plt.xticks(rotation=45)\n",
    "    plt.xticks([2, 2.5, 3, 3.5, 4, 4.5, 5, 5.5, 6, 6.5, 7, 7.5, 8])\n",
    "    plt.ylabel(y_label, fontsize=40)\n",
    "    "
   ]
  },
  {
   "cell_type": "code",
   "execution_count": null,
   "metadata": {},
   "outputs": [],
   "source": [
    "annual_chart(2015, 'Economy', 'Economy (GDP per capita)')"
   ]
  },
  {
   "cell_type": "code",
   "execution_count": null,
   "metadata": {},
   "outputs": [],
   "source": [
    "annual_chart(2020, 'Economy', 'Economy (GDP per capita)')"
   ]
  },
  {
   "cell_type": "code",
   "execution_count": null,
   "metadata": {},
   "outputs": [],
   "source": [
    "annual_chart(2020, 'Family', 'Family')"
   ]
  },
  {
   "cell_type": "code",
   "execution_count": null,
   "metadata": {},
   "outputs": [],
   "source": [
    "annual_chart(2020, 'Health', 'Health (Life Expectancy)')"
   ]
  },
  {
   "cell_type": "code",
   "execution_count": null,
   "metadata": {},
   "outputs": [],
   "source": [
    "annual_chart(2020, 'Freedom', 'Freedom')"
   ]
  },
  {
   "cell_type": "code",
   "execution_count": null,
   "metadata": {},
   "outputs": [],
   "source": [
    "annual_chart(2020, 'Trust', 'Trust (Government Corruption)')"
   ]
  },
  {
   "cell_type": "code",
   "execution_count": null,
   "metadata": {},
   "outputs": [],
   "source": [
    "annual_chart(2020, 'Generosity', 'Generosity')"
   ]
  },
  {
   "cell_type": "code",
   "execution_count": null,
   "metadata": {},
   "outputs": [],
   "source": []
  }
 ],
 "metadata": {
  "kernelspec": {
   "display_name": "Python 3.9.12 ('base')",
   "language": "python",
   "name": "python3"
  },
  "language_info": {
   "codemirror_mode": {
    "name": "ipython",
    "version": 3
   },
   "file_extension": ".py",
   "mimetype": "text/x-python",
   "name": "python",
   "nbconvert_exporter": "python",
   "pygments_lexer": "ipython3",
   "version": "3.9.12"
  },
  "orig_nbformat": 4,
  "vscode": {
   "interpreter": {
    "hash": "ea362b682be0464ec8ae907b46afaab0f8f668483618e0d4c498806df119c8e6"
   }
  }
 },
 "nbformat": 4,
 "nbformat_minor": 2
}
