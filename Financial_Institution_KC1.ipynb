{
 "cells": [
  {
   "cell_type": "code",
   "execution_count": 1,
   "metadata": {},
   "outputs": [],
   "source": [
    "import pandas as pd \n",
    "import requests\n",
    "from pandas import json_normalize"
   ]
  },
  {
   "attachments": {},
   "cell_type": "markdown",
   "metadata": {},
   "source": [
    "1. THE THREE CELLS BELOW ARE API REQUESTS"
   ]
  },
  {
   "cell_type": "code",
   "execution_count": 2,
   "metadata": {},
   "outputs": [
    {
     "name": "stdout",
     "output_type": "stream",
     "text": [
      "200\n"
     ]
    }
   ],
   "source": [
    "response_API = requests.get('https://banks.data.fdic.gov/api/institutions?limit=10000&offset=0')\n",
    "print(response_API.status_code)"
   ]
  },
  {
   "cell_type": "code",
   "execution_count": 3,
   "metadata": {},
   "outputs": [
    {
     "name": "stdout",
     "output_type": "stream",
     "text": [
      "200\n"
     ]
    }
   ],
   "source": [
    "response_API2 = requests.get('https://banks.data.fdic.gov/api/institutions?limit=10000&offset=10000')\n",
    "print(response_API2.status_code)"
   ]
  },
  {
   "cell_type": "code",
   "execution_count": 4,
   "metadata": {},
   "outputs": [
    {
     "name": "stdout",
     "output_type": "stream",
     "text": [
      "200\n"
     ]
    }
   ],
   "source": [
    "response_API3 = requests.get('https://banks.data.fdic.gov/api/institutions?limit=10000&offset=20000')\n",
    "print(response_API3.status_code)"
   ]
  },
  {
   "cell_type": "code",
   "execution_count": 5,
   "metadata": {},
   "outputs": [
    {
     "name": "stdout",
     "output_type": "stream",
     "text": [
      "<class 'dict'>\n"
     ]
    }
   ],
   "source": [
    "data = response_API.json()\n",
    "print(type(data))\n"
   ]
  },
  {
   "cell_type": "code",
   "execution_count": 6,
   "metadata": {},
   "outputs": [
    {
     "name": "stdout",
     "output_type": "stream",
     "text": [
      "<class 'dict'>\n"
     ]
    }
   ],
   "source": [
    "data2 = response_API2.json()\n",
    "print(type(data2))"
   ]
  },
  {
   "cell_type": "code",
   "execution_count": 7,
   "metadata": {},
   "outputs": [
    {
     "name": "stdout",
     "output_type": "stream",
     "text": [
      "<class 'dict'>\n"
     ]
    }
   ],
   "source": [
    "data3 = response_API3.json()\n",
    "print(type(data3))"
   ]
  },
  {
   "cell_type": "code",
   "execution_count": 20,
   "metadata": {},
   "outputs": [
    {
     "name": "stdout",
     "output_type": "stream",
     "text": [
      "   score data.ZIP  data.SASSER data.CHRTAGNT data.CONSERVE data.REGAGENT2  \\\n",
      "0      1    04073            0         STATE             N                  \n",
      "1      1    72712            0         STATE             N                  \n",
      "2      1    26003            0           OCC             N                  \n",
      "3      1    24986            0         STATE             N                  \n",
      "4      1    53946            0         STATE             N                  \n",
      "\n",
      "     data.STNAME data.INSDATE data.TE06N528 data.TE06N529  ...  data.CHANGEC3  \\\n",
      "0          Maine   01/01/1934                              ...            NaN   \n",
      "1       Arkansas   01/01/1934                              ...            NaN   \n",
      "2  West Virginia   01/01/1934                              ...            NaN   \n",
      "3  West Virginia   01/01/1934                              ...            NaN   \n",
      "4      Wisconsin   01/01/1934                              ...            NaN   \n",
      "\n",
      "  data.CHANGEC4 data.PRIORNAME6 data.PRIORNAME7 data.PRIORNAME8  \\\n",
      "0           NaN             NaN             NaN             NaN   \n",
      "1           NaN             NaN             NaN             NaN   \n",
      "2           NaN             NaN             NaN             NaN   \n",
      "3           NaN             NaN             NaN             NaN   \n",
      "4           NaN             NaN             NaN             NaN   \n",
      "\n",
      "  data.PRIORNAME9 data.CHANGEC11  data.CHANGEC10 data.INSDROPDATE data.count  \n",
      "0             NaN            NaN             NaN              NaN        NaN  \n",
      "1             NaN            NaN             NaN              NaN        NaN  \n",
      "2             NaN            NaN             NaN              NaN        NaN  \n",
      "3             NaN            NaN             NaN              NaN        NaN  \n",
      "4             NaN            NaN             NaN              NaN        NaN  \n",
      "\n",
      "[5 rows x 164 columns]\n",
      "   score data.ZIP  data.SASSER data.CHRTAGNT data.CONSERVE data.REGAGENT2  \\\n",
      "0      1    08087            0         STATE             N                  \n",
      "1      1    40202            0           OCC             N                  \n",
      "2      1    33801            0         STATE             N                  \n",
      "3      1    47454            0           OCC             N                  \n",
      "4      1    49418            0         STATE             N                  \n",
      "\n",
      "  data.STNAME  data.ROAQ data.INSDATE data.TE06N528  ... data.CHANGEC3  \\\n",
      "0  New Jersey       2.57   05/17/1976                ...           NaN   \n",
      "1    Kentucky      -1.51   05/22/1976                ...           NaN   \n",
      "2     Florida      -0.15   05/24/1976                ...           NaN   \n",
      "3     Indiana       1.45   05/24/1976                ...           NaN   \n",
      "4    Michigan        NaN   06/03/1976                ...           NaN   \n",
      "\n",
      "   data.CHANGEC4  data.CHANGEC11 data.CHANGEC10 data.INSDROPDATE data.count  \\\n",
      "0            NaN             NaN            NaN              NaN        NaN   \n",
      "1            NaN             NaN            NaN              NaN        NaN   \n",
      "2            NaN             NaN            NaN              NaN        NaN   \n",
      "3            NaN             NaN            NaN              NaN        NaN   \n",
      "4            NaN             NaN            NaN              NaN        NaN   \n",
      "\n",
      "   data.PRIORNAME5 data.PRIORNAME6 data.PRIORNAME7  data.PRIORNAME8  \n",
      "0              NaN             NaN             NaN              NaN  \n",
      "1              NaN             NaN             NaN              NaN  \n",
      "2              NaN             NaN             NaN              NaN  \n",
      "3              NaN             NaN             NaN              NaN  \n",
      "4              NaN             NaN             NaN              NaN  \n",
      "\n",
      "[5 rows x 163 columns]\n",
      "   score data.ZIP  data.SASSER data.CHRTAGNT data.CONSERVE data.REGAGENT2  \\\n",
      "0      1    68601            0         STATE             N                  \n",
      "1      1    44139            0         STATE             N                  \n",
      "2      1    60073            0         STATE             N                  \n",
      "3      1    79536            0           OCC             N                  \n",
      "4      1    68144            0         STATE             N                  \n",
      "\n",
      "  data.STNAME  data.ROAQ data.INSDATE data.TE06N528  ... data.CHANGEC9  \\\n",
      "0    Nebraska      -0.42   04/08/1991                ...           NaN   \n",
      "1        Ohio       1.36   04/22/1991                ...           NaN   \n",
      "2    Illinois       0.64   04/29/1991                ...           NaN   \n",
      "3       Texas      -1.56   01/01/1934                ...           NaN   \n",
      "4    Nebraska       1.34   04/10/1991                ...           NaN   \n",
      "\n",
      "   data.CHANGEC8  data.CHANGEC13 data.CHANGEC12 data.CHANGEC15 data.CHANGEC14  \\\n",
      "0            NaN             NaN            NaN            NaN            NaN   \n",
      "1            NaN             NaN            NaN            NaN            NaN   \n",
      "2            NaN             NaN            NaN            NaN            NaN   \n",
      "3            NaN             NaN            NaN            NaN            NaN   \n",
      "4            NaN             NaN            NaN            NaN            NaN   \n",
      "\n",
      "   data.CHANGEC11 data.CHANGEC10 data.PRIORNAME7  data.PRIORNAME8  \n",
      "0             NaN            NaN             NaN              NaN  \n",
      "1             NaN            NaN             NaN              NaN  \n",
      "2             NaN            NaN             NaN              NaN  \n",
      "3             NaN            NaN             NaN              NaN  \n",
      "4             NaN            NaN             NaN              NaN  \n",
      "\n",
      "[5 rows x 167 columns]\n"
     ]
    }
   ],
   "source": [
    "institution_df = json_normalize(data['data'])\n",
    "#print(institution_df.head())\n",
    "#institution_df.to_csv('inst.csv')\n",
    "\n",
    "institution_df2 = json_normalize(data2['data'])\n",
    "#print(institution_df2.head())\n",
    "#institution_df2.to_csv('inst2.csv')\n",
    "\n",
    "institution_df3 = json_normalize(data3['data'])\n",
    "#print(institution_df3.head())\n",
    "#institution_df3.to_csv('inst3.csv')"
   ]
  },
  {
   "cell_type": "code",
   "execution_count": 9,
   "metadata": {},
   "outputs": [],
   "source": [
    "institution_df = institution_df.reindex(sorted(institution_df.columns), axis=1)\n",
    "institution_df2 = institution_df2.reindex(sorted(institution_df2.columns), axis=1)\n",
    "institution_df3 = institution_df3.reindex(sorted(institution_df3.columns), axis=1)"
   ]
  },
  {
   "cell_type": "code",
   "execution_count": null,
   "metadata": {},
   "outputs": [],
   "source": [
    "#full_df = institution_df.append(institution_df.append(institution_df3))\n",
    "#.append is being deprecated - use .concat instead"
   ]
  },
  {
   "cell_type": "code",
   "execution_count": 21,
   "metadata": {},
   "outputs": [
    {
     "name": "stdout",
     "output_type": "stream",
     "text": [
      "(27816, 168)\n"
     ]
    }
   ],
   "source": [
    "full_data = [institution_df, institution_df2, institution_df3]\n",
    "df = pd.concat(full_data)\n",
    "df.columns = df.columns.str.lstrip(\"data.\")\n",
    "#df.to_csv('inst_full.csv')\n",
    "print(df.shape)"
   ]
  },
  {
   "attachments": {},
   "cell_type": "markdown",
   "metadata": {},
   "source": [
    "2. HERE ARE THREE STATISTICS ABOUT THIS DATA"
   ]
  },
  {
   "cell_type": "code",
   "execution_count": 23,
   "metadata": {},
   "outputs": [
    {
     "name": "stdout",
     "output_type": "stream",
     "text": [
      "There are 27816 institutuions with data on the FDIC's API.\n",
      "\n",
      "There are 23098 active institutions registered with the FDIC.\n",
      "\n",
      "There are 4718 inactive institutions registered with the FDIC.\n",
      "\n"
     ]
    }
   ],
   "source": [
    "bank_count = len(df)\n",
    "print(\"There are\", bank_count, \"institutuions with data on the FDIC's API.\\n\")\n",
    "\n",
    "active = df['ACTIVE'].value_counts()[0]\n",
    "print(\"There are\", active, \"active institutions registered with the FDIC.\\n\")\n",
    "\n",
    "inactive = df['ACTIVE'].value_counts()[1]\n",
    "print(\"There are\", inactive, \"inactive institutions registered with the FDIC.\\n\")"
   ]
  },
  {
   "cell_type": "code",
   "execution_count": 31,
   "metadata": {},
   "outputs": [
    {
     "name": "stdout",
     "output_type": "stream",
     "text": [
      "23098\n",
      "   score    ZIP  SASSER CHRTAGNT CONSERVE REGAGENT2         STNAME  \\\n",
      "0      1  04073       0    STATE        N                    Maine   \n",
      "1      1  72712       0    STATE        N                 Arkansas   \n",
      "2      1  26003       0      OCC        N            West Virginia   \n",
      "3      1  24986       0    STATE        N            West Virginia   \n",
      "5      1  54306       0    STATE        N                Wisconsin   \n",
      "\n",
      "      INSDATE TE06N528 TE06N529  ...  PRIORNAME8 PRIORNAME9 CHANGEC11  \\\n",
      "0  01/01/1934                    ...         NaN        NaN       NaN   \n",
      "1  01/01/1934                    ...         NaN        NaN       NaN   \n",
      "2  01/01/1934                    ...         NaN        NaN       NaN   \n",
      "3  01/01/1934                    ...         NaN        NaN       NaN   \n",
      "5  01/01/1934                    ...         NaN        NaN       NaN   \n",
      "\n",
      "  CHANGEC10 INSDROPDATE count CHANGEC13  CHANGEC12 CHANGEC15 CHANGEC14  \n",
      "0       NaN         NaN   NaN       NaN        NaN       NaN       NaN  \n",
      "1       NaN         NaN   NaN       NaN        NaN       NaN       NaN  \n",
      "2       NaN         NaN   NaN       NaN        NaN       NaN       NaN  \n",
      "3       NaN         NaN   NaN       NaN        NaN       NaN       NaN  \n",
      "5       NaN         NaN   NaN       NaN        NaN       NaN       NaN  \n",
      "\n",
      "[5 rows x 168 columns]\n"
     ]
    }
   ],
   "source": [
    "active_df = df[df.ACTIVE == 0]\n",
    "print(len(active_df))\n",
    "print(active_df.head())"
   ]
  },
  {
   "cell_type": "code",
   "execution_count": 33,
   "metadata": {},
   "outputs": [
    {
     "name": "stdout",
     "output_type": "stream",
     "text": [
      "The minimum assets held by an FDIC registered institution are $1.0 \n",
      "\n",
      "The maximum assets held by an FDIC registered institution are $510083000.0 \n",
      "\n",
      "The average assets held by an FDIC registered institution are $787717.1449738219 \n",
      "\n"
     ]
    }
   ],
   "source": [
    "min = active_df[\"ASSET\"].min()\n",
    "max = active_df[\"ASSET\"].max()\n",
    "mean = active_df[\"ASSET\"].mean()\n",
    "\n",
    "print(\"The minimum assets held by an FDIC registered institution are ${} \\n\".format(min))\n",
    "print(\"The maximum assets held by an FDIC registered institution are ${} \\n\".format(max))\n",
    "print(\"The average assets held by an FDIC registered institution are ${} \\n\".format(mean))"
   ]
  },
  {
   "attachments": {},
   "cell_type": "markdown",
   "metadata": {},
   "source": [
    "2. HERE ARE THREE MORE STATISTICS ABOUT THIS DATA"
   ]
  },
  {
   "cell_type": "code",
   "execution_count": 34,
   "metadata": {},
   "outputs": [
    {
     "name": "stdout",
     "output_type": "stream",
     "text": [
      "The minimum assets held by an FDIC registered institution are $1.0 \n",
      "\n",
      "The maximum assets held by an FDIC registered institution are $3308575000.0 \n",
      "\n",
      "The average assets held by an FDIC registered institution are $1618986.53 \n",
      "\n"
     ]
    }
   ],
   "source": [
    "min = df[\"ASSET\"].min()\n",
    "max = df[\"ASSET\"].max()\n",
    "mean = df[\"ASSET\"].mean().round(2)\n",
    "\n",
    "print(\"The minimum assets held by an FDIC registered institution are ${} \\n\".format(min))\n",
    "print(\"The maximum assets held by an FDIC registered institution are ${} \\n\".format(max))\n",
    "print(\"The average assets held by an FDIC registered institution are ${} \\n\".format(mean))"
   ]
  },
  {
   "cell_type": "code",
   "execution_count": null,
   "metadata": {},
   "outputs": [],
   "source": [
    "\"\"\"\n",
    "\n",
    "Standarad deviation for later analysis\n",
    "\n",
    "std = df[\"data.ASSET\"].std().round(2)\n",
    "top_std = (mean + std).round(2)\n",
    "btm_std = (mean - std).round(2)\n",
    "\n",
    "print(std)\n",
    "print(\"Most FDIC registed banks have between ${} and ${} \\n\".format(btm_std, top_std))\n",
    "\n",
    "\"\"\""
   ]
  },
  {
   "cell_type": "code",
   "execution_count": null,
   "metadata": {},
   "outputs": [],
   "source": [
    "# to format as currency\n",
    "#.style.format('${0:,.2f}')"
   ]
  },
  {
   "attachments": {},
   "cell_type": "markdown",
   "metadata": {},
   "source": [
    "3. HERE IS A QUERY"
   ]
  },
  {
   "cell_type": "code",
   "execution_count": null,
   "metadata": {},
   "outputs": [],
   "source": [
    "kc1_df = df.query(\"`data.ASSET` >= 610000 and `data.ASSET` <= 2610000\")"
   ]
  },
  {
   "attachments": {},
   "cell_type": "markdown",
   "metadata": {},
   "source": [
    "4. HERE ARE THE SECOND AND THIRD COLUMNS OF THE NEW DF"
   ]
  },
  {
   "cell_type": "code",
   "execution_count": null,
   "metadata": {},
   "outputs": [],
   "source": [
    "print(kc1_df.iloc[:, [1, 2]])"
   ]
  },
  {
   "attachments": {},
   "cell_type": "markdown",
   "metadata": {},
   "source": [
    "5. HERE ARE THE FIRST FOUR ROWS OF THE NEW DF"
   ]
  },
  {
   "cell_type": "code",
   "execution_count": null,
   "metadata": {},
   "outputs": [],
   "source": [
    "print(kc1_df.head(4))"
   ]
  },
  {
   "cell_type": "code",
   "execution_count": null,
   "metadata": {},
   "outputs": [],
   "source": [
    "#test = df.rename(columns=str.removeprefix(\"data.\"), index=str.title)\n",
    "#print(test.head())"
   ]
  },
  {
   "cell_type": "code",
   "execution_count": null,
   "metadata": {},
   "outputs": [],
   "source": [
    "\"\"\"\n",
    "\n",
    "To add banks with FDIC violations\n",
    "\n",
    "absolute_path = os.path.abspath('')\n",
    "relative_path = \"ots-enforcement-order-listing.csv\"\n",
    "full_path = os.path.join(absolute_path, relative_path)\n",
    "enforcment_df = pd.read_csv(full_path)\n",
    "print(enforcment_df.head())\n",
    "\"\"\""
   ]
  },
  {
   "cell_type": "code",
   "execution_count": null,
   "metadata": {},
   "outputs": [],
   "source": [
    "\"\"\"\n",
    "\n",
    "To remove unecessary columns\n",
    "\n",
    "new_enf_df = enforcment_df\n",
    "\n",
    "if 'DOCASSOCIATION' in new_enf_df.columns: \n",
    "    new_enf_df.drop(new_enf_df.iloc[:, 3:9], inplace=True, axis=1)\n",
    "\n",
    "print(new_enf_df.head())\n",
    "\"\"\""
   ]
  },
  {
   "cell_type": "code",
   "execution_count": null,
   "metadata": {},
   "outputs": [],
   "source": [
    "#drop o-v\n",
    "#drop cj-dd\n",
    "#"
   ]
  }
 ],
 "metadata": {
  "kernelspec": {
   "display_name": "Python 3.10.9 64-bit (microsoft store)",
   "language": "python",
   "name": "python3"
  },
  "language_info": {
   "codemirror_mode": {
    "name": "ipython",
    "version": 3
   },
   "file_extension": ".py",
   "mimetype": "text/x-python",
   "name": "python",
   "nbconvert_exporter": "python",
   "pygments_lexer": "ipython3",
   "version": "3.10.10"
  },
  "orig_nbformat": 4,
  "vscode": {
   "interpreter": {
    "hash": "c0589475581bafe2bbc330412b8cf2cd44fed02eacf7679fc9db622cc240f316"
   }
  }
 },
 "nbformat": 4,
 "nbformat_minor": 2
}
