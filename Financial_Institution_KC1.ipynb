{
 "cells": [
  {
   "cell_type": "code",
   "execution_count": 44,
   "metadata": {},
   "outputs": [],
   "source": [
    "import pandas as pd \n",
    "import requests\n",
    "import numpy as np\n",
    "import re\n",
    "import warnings\n",
    "from pandas import json_normalize"
   ]
  },
  {
   "cell_type": "code",
   "execution_count": 45,
   "metadata": {},
   "outputs": [
    {
     "name": "stdout",
     "output_type": "stream",
     "text": [
      "True\n"
     ]
    }
   ],
   "source": [
    "import os.path\n",
    "\n",
    "file_exists = os.path.exists(\"inst_full.csv\")\n",
    "\n",
    "print(file_exists)"
   ]
  },
  {
   "attachments": {},
   "cell_type": "markdown",
   "metadata": {},
   "source": [
    "THE CELL BEOW CHECKS TO SEE IF YOU ALREADY HAVE THE DATA AND IF NOT SENDS GET REQUESTS TO THE API\n",
    "\n",
    "NOTE - THIS DOES NOT CHECK TO ENSURE THE FILE IS CURRENT OR FREE OF ERRORS.  IF YOU WOULD LIKE TO UPDATE YOUR FILE OR YOU ARE CONCERNED THAT YOUR FILE HAS ERRORS, SIMPLY DELETE YOUR FILE AND A NEW, UPDATED FILE WILL BE CREATED."
   ]
  },
  {
   "attachments": {},
   "cell_type": "markdown",
   "metadata": {},
   "source": [
    "KNOWLEDGE CHECK 2 - See the last 20 lines in the cell below (most of the code in the ELSE statement).  This cleans the data by checking for columns with mixed data types and converting the entire column to strings.  It converts the data type, but also displays an error to identify the affected columns.  This is a solution I found on stackoverflow that I wanted to implement in my code."
   ]
  },
  {
   "cell_type": "code",
   "execution_count": 46,
   "metadata": {},
   "outputs": [
    {
     "name": "stdout",
     "output_type": "stream",
     "text": [
      "FILE ALREADY EXISTS\n",
      "Warnings raised: []\n"
     ]
    },
    {
     "name": "stderr",
     "output_type": "stream",
     "text": [
      "C:\\Users\\mjlaw\\AppData\\Local\\Temp\\ipykernel_11372\\3671726210.py:82: DtypeWarning: Columns (108,109,110,152) have mixed types. Specify dtype option on import or set low_memory=False.\n",
      "  df = pd.read_csv('inst_full.csv')\n"
     ]
    }
   ],
   "source": [
    "\n",
    "import pandas\n",
    "\n",
    "\n",
    "if file_exists == False:\n",
    "    print(\"FILE DOES NOT EXIST\")\n",
    "\n",
    "    response_API = requests.get('https://banks.data.fdic.gov/api/institutions?limit=10000&offset=0')\n",
    "    #print(response_API.status_code)\n",
    "\n",
    "    response_API2 = requests.get('https://banks.data.fdic.gov/api/institutions?limit=10000&offset=10000')\n",
    "    #print(response_API2.status_code)\n",
    "\n",
    "    response_API3 = requests.get('https://banks.data.fdic.gov/api/institutions?limit=10000&offset=20000')\n",
    "    #print(response_API3.status_code)\n",
    "\n",
    "    print(\"Get request sucessful from API\")\n",
    "\n",
    "\n",
    "    data = response_API.json()\n",
    "    #print(type(data))\n",
    "\n",
    "    data2 = response_API2.json()\n",
    "    #print(type(data2))\n",
    "\n",
    "    data3 = response_API3.json()\n",
    "    #print(type(data3))\n",
    "\n",
    "\n",
    "\n",
    "    institution_df = json_normalize(data['data'])\n",
    "    #print(institution_df.head())\n",
    "    #institution_df.to_csv('inst.csv')\n",
    "\n",
    "    institution_df2 = json_normalize(data2['data'])\n",
    "    #print(institution_df2.head())\n",
    "    #institution_df2.to_csv('inst2.csv')\n",
    "\n",
    "    institution_df3 = json_normalize(data3['data'])\n",
    "    #print(institution_df3.head())\n",
    "    #institution_df3.to_csv('inst3.csv')\n",
    "    \n",
    "    print(\"Data from API converted to json\")\n",
    "\n",
    "\n",
    "    institution_df = institution_df.reindex(sorted(institution_df.columns), axis=1)\n",
    "    institution_df2 = institution_df2.reindex(sorted(institution_df2.columns), axis=1)\n",
    "    institution_df3 = institution_df3.reindex(sorted(institution_df3.columns), axis=1)\n",
    "\n",
    "\n",
    "\n",
    "    full_data = [institution_df, institution_df2, institution_df3]\n",
    "    df = pd.concat(full_data)\n",
    "    df.columns = df.columns.str.lstrip(\"data.\")\n",
    "    df.to_csv('inst_full.csv')\n",
    "    \n",
    "    print(\"New file created, shape should be (27816, 168)\")\n",
    "    print(df.shape)\n",
    "    \n",
    "\n",
    "else:\n",
    "    print(\"FILE ALREADY EXISTS\")\n",
    "\n",
    "    myfile = 'inst_full.csv'\n",
    "    target_type = str  # The desired output type\n",
    "\n",
    "    with warnings.catch_warnings(record=True) as ws:\n",
    "        warnings.simplefilter(\"always\")\n",
    "\n",
    "        mydata = pandas.read_csv(myfile, sep=\"|\", header=None)\n",
    "        print(\"Warnings raised:\", ws)\n",
    "        # We have an error on specific columns, try and load them as string\n",
    "        for w in ws:\n",
    "            s = str(w.message)\n",
    "            print(\"Warning message:\", s)\n",
    "            match = re.search(r\"Columns \\(([0-9,]+)\\) have mixed types\\.\", s)\n",
    "            if match:\n",
    "                columns = match.group(1).split(',') # Get columns as a list\n",
    "                columns = [int(c) for c in columns]\n",
    "                print(\"Applying %s dtype to columns:\" % target_type, columns)\n",
    "                mydata.iloc[:,columns] = mydata.iloc[:,columns].astype(target_type)\n",
    "\n",
    "    df = pd.read_csv('inst_full.csv')\n",
    "    "
   ]
  },
  {
   "cell_type": "code",
   "execution_count": 47,
   "metadata": {},
   "outputs": [],
   "source": [
    "#full_df = institution_df.append(institution_df.append(institution_df3))\n",
    "#.append is being deprecated - use .concat instead"
   ]
  },
  {
   "attachments": {},
   "cell_type": "markdown",
   "metadata": {},
   "source": [
    "Knowledge Check 2 - Reformating the column names so they are all lower case and spaces are replaced with an underscore"
   ]
  },
  {
   "cell_type": "code",
   "execution_count": 48,
   "metadata": {},
   "outputs": [],
   "source": [
    "#print(df.columns)\n",
    "df.columns= df.columns.str.lower()\n",
    "df.columns = df.columns.str.replace(' ', '_')\n",
    "#print(df.columns)"
   ]
  },
  {
   "cell_type": "code",
   "execution_count": 49,
   "metadata": {},
   "outputs": [
    {
     "name": "stdout",
     "output_type": "stream",
     "text": [
      "There are 27816 institutuions with data on the FDIC's API.\n",
      "\n",
      "There are 23098 active institutions registered with the FDIC.\n",
      "\n",
      "There are 4718 inactive institutions registered with the FDIC.\n",
      "\n"
     ]
    }
   ],
   "source": [
    "bank_count = len(df)\n",
    "print(\"There are\", bank_count, \"institutuions with data on the FDIC's API.\\n\")\n",
    "\n",
    "active = df['active'].value_counts()[0]\n",
    "print(\"There are\", active, \"active institutions registered with the FDIC.\\n\")\n",
    "\n",
    "inactive = df['active'].value_counts()[1]\n",
    "print(\"There are\", inactive, \"inactive institutions registered with the FDIC.\\n\")"
   ]
  },
  {
   "cell_type": "code",
   "execution_count": 50,
   "metadata": {},
   "outputs": [
    {
     "name": "stdout",
     "output_type": "stream",
     "text": [
      "23098\n",
      "   unnamed:_0  active                          address address2     asset  \\\n",
      "0           0       0              8 Washington Street      NaN       NaN   \n",
      "1           1       0                201 N.E. A Street      NaN  712714.0   \n",
      "2           2       0              1701 Warwood Avenue      NaN  338215.0   \n",
      "3           3       0               1 East Main Street      NaN  126549.0   \n",
      "5           5       0  Broadway And West Walnut Street      NaN  227248.0   \n",
      "\n",
      "  bkclass  callform   cb                                cbsa cbsa_div  ...  \\\n",
      "0      SM       NaN  NaN         Portland-South Portland, ME      NaN  ...   \n",
      "1      SM      41.0  0.0  Fayetteville-Springdale-Rogers, AR      NaN  ...   \n",
      "2       N      41.0  1.0                     Wheeling, WV-OH      NaN  ...   \n",
      "3      SM      33.0  0.0                                 NaN      NaN  ...   \n",
      "5      NM      33.0  0.0                       Green Bay, WI      NaN  ...   \n",
      "\n",
      "   ultcert  uninum  webaddr    zip count  score  changec12  changec13  \\\n",
      "0     3510       5      NaN   4073   NaN      1        NaN        NaN   \n",
      "1     8728      80      NaN  72712   NaN      1        NaN        NaN   \n",
      "2     7848    6392      NaN  26003   NaN      1        NaN        NaN   \n",
      "3    11063    6393      NaN  24986   NaN      1        NaN        NaN   \n",
      "5    16571    6395      NaN  54306   NaN      1        NaN        NaN   \n",
      "\n",
      "  changec14 changec15  \n",
      "0       NaN       NaN  \n",
      "1       NaN       NaN  \n",
      "2       NaN       NaN  \n",
      "3       NaN       NaN  \n",
      "5       NaN       NaN  \n",
      "\n",
      "[5 rows x 169 columns]\n"
     ]
    }
   ],
   "source": [
    "active_df = df[df.active == 0]\n",
    "print(len(active_df))\n",
    "print(active_df.head())"
   ]
  },
  {
   "cell_type": "code",
   "execution_count": 51,
   "metadata": {},
   "outputs": [
    {
     "name": "stdout",
     "output_type": "stream",
     "text": [
      "4718\n",
      "    unnamed:_0  active             address address2      asset bkclass  \\\n",
      "4            4       1       86 E Water St      NaN   144049.0      NM   \n",
      "11          11       1        403 W 8th St      NaN   382346.0      NM   \n",
      "12          12       1  1155 County Road D      NaN   207276.0      NM   \n",
      "15          15       1       112 E Main St      NaN   150653.0      NM   \n",
      "32          32       1       130 S Main St      NaN  2593020.0       N   \n",
      "\n",
      "    callform   cb               cbsa cbsa_div  ...  ultcert  uninum  \\\n",
      "4       51.0  1.0                NaN      NaN  ...    10004    6394   \n",
      "11      51.0  1.0        Madison, WI      NaN  ...    10011    6400   \n",
      "12      51.0  1.0  Stevens Point, WI      NaN  ...    10012    6401   \n",
      "15      51.0  1.0     Eau Claire, WI      NaN  ...    10015    6404   \n",
      "32      51.0  1.0    Fond du Lac, WI      NaN  ...    10044    6419   \n",
      "\n",
      "                             webaddr    zip count  score  changec12  \\\n",
      "4            http://www.ergobank.com  53946   NaN      1        NaN   \n",
      "11         www.woodfordstatebank.com  53566   NaN      1        NaN   \n",
      "12  http://www.PORTAGECOUNTYBANK.COM  54909   NaN      1        NaN   \n",
      "15        www.securityonlinebank.com  54757   NaN      1        NaN   \n",
      "32             https://www.nebat.com  54935   NaN      1        NaN   \n",
      "\n",
      "    changec13 changec14 changec15  \n",
      "4         NaN       NaN       NaN  \n",
      "11        NaN       NaN       NaN  \n",
      "12        NaN       NaN       NaN  \n",
      "15        NaN       NaN       NaN  \n",
      "32        NaN       NaN       NaN  \n",
      "\n",
      "[5 rows x 169 columns]\n"
     ]
    }
   ],
   "source": [
    "inactive_df = df[df.active == 1]\n",
    "print(len(inactive_df))\n",
    "print(inactive_df.head())"
   ]
  },
  {
   "cell_type": "code",
   "execution_count": 52,
   "metadata": {},
   "outputs": [
    {
     "name": "stdout",
     "output_type": "stream",
     "text": [
      "The minimum assets held by an active FDIC registered institution are $1.00 \n",
      "\n",
      "The maximum assets held by an active FDIC registered institution are $510,083,000.00 \n",
      "\n",
      "The average assets held by an active FDIC registered institution are $787,717.14 \n",
      "\n"
     ]
    }
   ],
   "source": [
    "min = \"{:,.2f}\".format(active_df[\"asset\"].min())\n",
    "max = \"{:,.2f}\".format(active_df[\"asset\"].max())\n",
    "mean = \"{:,.2f}\".format(active_df[\"asset\"].mean())\n",
    "\n",
    "print(\"The minimum assets held by an active FDIC registered institution are ${} \\n\".format(min))\n",
    "print(\"The maximum assets held by an active FDIC registered institution are ${} \\n\".format(max))\n",
    "print(\"The average assets held by an active FDIC registered institution are ${} \\n\".format(mean))"
   ]
  },
  {
   "cell_type": "code",
   "execution_count": 53,
   "metadata": {},
   "outputs": [
    {
     "name": "stdout",
     "output_type": "stream",
     "text": [
      "The minimum assets held by an inactive FDIC registered institution are $3,134.00 \n",
      "\n",
      "The maximum assets held by an inactive FDIC registered institution are $3,308,575,000.00 \n",
      "\n",
      "The average assets held by an inactive FDIC registered institution are $4,987,805.79 \n",
      "\n"
     ]
    }
   ],
   "source": [
    "min = \"{:,.2f}\".format(inactive_df[\"asset\"].min())\n",
    "max = \"{:,.2f}\".format(inactive_df[\"asset\"].max())\n",
    "mean = \"{:,.2f}\".format(inactive_df[\"asset\"].mean())\n",
    "\n",
    "print(\"The minimum assets held by an inactive FDIC registered institution are ${} \\n\".format(min))\n",
    "print(\"The maximum assets held by an inactive FDIC registered institution are ${} \\n\".format(max))\n",
    "print(\"The average assets held by an inactive FDIC registered institution are ${} \\n\".format(mean))"
   ]
  },
  {
   "cell_type": "code",
   "execution_count": 54,
   "metadata": {},
   "outputs": [
    {
     "name": "stdout",
     "output_type": "stream",
     "text": [
      "The minimum assets held by an FDIC registered institution are $1.00 \n",
      "\n",
      "The maximum assets held by an FDIC registered institution are $3,308,575,000.00 \n",
      "\n",
      "The average assets held by an FDIC registered institution are $1,618,986.53 \n",
      "\n"
     ]
    }
   ],
   "source": [
    "min = \"{:,.2f}\".format(df[\"asset\"].min())\n",
    "max = \"{:,.2f}\".format(df[\"asset\"].max())\n",
    "mean = \"{:,.2f}\".format(df[\"asset\"].mean().round(2))\n",
    "\n",
    "print(\"The minimum assets held by an FDIC registered institution are ${} \\n\".format(min))\n",
    "print(\"The maximum assets held by an FDIC registered institution are ${} \\n\".format(max))\n",
    "print(\"The average assets held by an FDIC registered institution are ${} \\n\".format(mean))"
   ]
  },
  {
   "cell_type": "code",
   "execution_count": 55,
   "metadata": {},
   "outputs": [
    {
     "data": {
      "text/plain": [
       "'\\n\\nStandarad deviation for later analysis\\n\\nstd = df[\"data.ASSET\"].std().round(2)\\ntop_std = (mean + std).round(2)\\nbtm_std = (mean - std).round(2)\\n\\nprint(std)\\nprint(\"Most FDIC registed banks have between ${} and ${} \\n\".format(btm_std, top_std))\\n\\n'"
      ]
     },
     "execution_count": 55,
     "metadata": {},
     "output_type": "execute_result"
    }
   ],
   "source": [
    "\"\"\"\n",
    "\n",
    "Standarad deviation for later analysis\n",
    "\n",
    "std = df[\"data.ASSET\"].std().round(2)\n",
    "top_std = (mean + std).round(2)\n",
    "btm_std = (mean - std).round(2)\n",
    "\n",
    "print(std)\n",
    "print(\"Most FDIC registed banks have between ${} and ${} \\n\".format(btm_std, top_std))\n",
    "\n",
    "\"\"\""
   ]
  },
  {
   "cell_type": "code",
   "execution_count": 56,
   "metadata": {},
   "outputs": [],
   "source": [
    "# to format as currency\n",
    "#.style.format('${0:,.2f}')"
   ]
  },
  {
   "cell_type": "code",
   "execution_count": 57,
   "metadata": {},
   "outputs": [],
   "source": [
    "#test = df.rename(columns=str.removeprefix(\"data.\"), index=str.title)\n",
    "#print(test.head())"
   ]
  },
  {
   "cell_type": "code",
   "execution_count": 58,
   "metadata": {},
   "outputs": [
    {
     "name": "stdout",
     "output_type": "stream",
     "text": [
      "3547\n",
      "   Record ID Docket Number     IID  \\\n",
      "0          1            29    29.0   \n",
      "1          2          8327  8327.0   \n",
      "2          3          3916  3916.0   \n",
      "3          4           NaN     NaN   \n",
      "4          5           NaN     NaN   \n",
      "\n",
      "                                   Unnamed: 3 DOCASSOCIATION Unnamed: 5  \\\n",
      "0  http://www.occ.gov/static/ots/enforcement/          93296       .pdf   \n",
      "1  http://www.occ.gov/static/ots/enforcement/          93221       .pdf   \n",
      "2  http://www.occ.gov/static/ots/enforcement/          93233       .pdf   \n",
      "3  http://www.occ.gov/static/ots/enforcement/          93799       .pdf   \n",
      "4  http://www.occ.gov/static/ots/enforcement/          94981       .pdf   \n",
      "\n",
      "                                          Unnamed: 6  \\\n",
      "0  http://www.occ.gov/static/ots/enforcement/9329...   \n",
      "1  http://www.occ.gov/static/ots/enforcement/9322...   \n",
      "2  http://www.occ.gov/static/ots/enforcement/9323...   \n",
      "3  http://www.occ.gov/static/ots/enforcement/9379...   \n",
      "4  http://www.occ.gov/static/ots/enforcement/9498...   \n",
      "\n",
      "                                          Unnamed: 7  \\\n",
      "0  http://www.occ.gov/static/ots/enforcement/9329...   \n",
      "1  http://www.occ.gov/static/ots/enforcement/9322...   \n",
      "2  http://www.occ.gov/static/ots/enforcement/9323...   \n",
      "3  http://www.occ.gov/static/ots/enforcement/9379...   \n",
      "4  http://www.occ.gov/static/ots/enforcement/9498...   \n",
      "\n",
      "                          Link to Enforcement Action Order Number  ...  \\\n",
      "0  http://www.occ.gov/static/ots/enforcement/9329...    DAL 96-18  ...   \n",
      "1  http://www.occ.gov/static/ots/enforcement/9322...    ATL 97-06  ...   \n",
      "2  http://www.occ.gov/static/ots/enforcement/9323...    MWR 97-17  ...   \n",
      "3  http://www.occ.gov/static/ots/enforcement/9379...    OTS 93-45  ...   \n",
      "4  http://www.occ.gov/static/ots/enforcement/9498...     NY 90-17  ...   \n",
      "\n",
      "    First Name Last Name               City State OTS Region Issue Date  \\\n",
      "0   Martha Sue     Abney          Texarkana    AR    Western   8/7/1996   \n",
      "1    Christina    Acosta  North Miami Beach    FL  Southeast  8/28/1997   \n",
      "2   Melissa J.     Acuna            Roswell    NM    Western  11/6/1997   \n",
      "3        Mario    Albini          Waterbury    CT  Northeast   6/3/1993   \n",
      "4  Jose Manuel  Alcorcer           Santurce    PR  Southeast   7/3/1990   \n",
      "\n",
      "  Type Code               Type Description Type of Order Notes  \n",
      "0      15.0  Orders of Removal/Prohibition   Prohibition   NaN  \n",
      "1      15.0  Orders of Removal/Prohibition   Prohibition   NaN  \n",
      "2      15.0  Orders of Removal/Prohibition   Prohibition   NaN  \n",
      "3      15.0  Orders of Removal/Prohibition   Prohibition   NaN  \n",
      "4      15.0  Orders of Removal/Prohibition   Prohibition   NaN  \n",
      "\n",
      "[5 rows x 21 columns]\n"
     ]
    }
   ],
   "source": [
    "#To add banks with FDIC violations\n",
    "\n",
    "absolute_path = os.path.abspath('')\n",
    "relative_path = \"ots-enforcement-order-listing.csv\"\n",
    "full_path = os.path.join(absolute_path, relative_path)\n",
    "enforcment_df = pd.read_csv(full_path)\n",
    "print(len(enforcment_df))\n",
    "print(enforcment_df.head())"
   ]
  },
  {
   "cell_type": "code",
   "execution_count": 59,
   "metadata": {},
   "outputs": [
    {
     "name": "stdout",
     "output_type": "stream",
     "text": [
      "Index(['Record ID', 'Docket Number', 'IID', 'Unnamed: 3', 'DOCASSOCIATION',\n",
      "       'Unnamed: 5', 'Unnamed: 6', 'Unnamed: 7', 'Link to Enforcement Action',\n",
      "       'Order Number', 'Institution Name', 'First Name', 'Last Name', 'City',\n",
      "       'State', 'OTS Region', 'Issue Date', 'Type Code', 'Type Description',\n",
      "       'Type of Order', 'Notes'],\n",
      "      dtype='object')\n",
      "Index(['record_id', 'docket_number', 'iid', 'unnamed:_3', 'docassociation',\n",
      "       'unnamed:_5', 'unnamed:_6', 'unnamed:_7', 'link_to_enforcement_action',\n",
      "       'order_number', 'institution_name', 'first_name', 'last_name', 'city',\n",
      "       'state', 'ots_region', 'issue_date', 'type_code', 'type_description',\n",
      "       'type_of_order', 'notes'],\n",
      "      dtype='object')\n"
     ]
    }
   ],
   "source": [
    "print(enforcment_df.columns)\n",
    "enforcment_df.columns= enforcment_df.columns.str.lower()\n",
    "enforcment_df.columns = enforcment_df.columns.str.replace(' ', '_')\n",
    "print(enforcment_df.columns)"
   ]
  },
  {
   "cell_type": "code",
   "execution_count": 60,
   "metadata": {},
   "outputs": [],
   "source": [
    "#for d in enforcment_df['docket_number'].astype(str):\n",
    "#    if enforcment_df['docket_number'].str.startswith('H'):\n",
    "#        enforcment_df['docket_number'].str.replace(' ', '')"
   ]
  },
  {
   "attachments": {},
   "cell_type": "markdown",
   "metadata": {},
   "source": [
    "Knowledge Check 2 - The next two cells remove improperly formatted docket numbers and then remove rows without docket numbers from the data frame"
   ]
  },
  {
   "cell_type": "code",
   "execution_count": 61,
   "metadata": {},
   "outputs": [],
   "source": [
    "enforcment_df['docket_number'] = np.where(enforcment_df['docket_number'].str.startswith('H'), '', enforcment_df['docket_number'])"
   ]
  },
  {
   "cell_type": "code",
   "execution_count": 64,
   "metadata": {},
   "outputs": [
    {
     "name": "stdout",
     "output_type": "stream",
     "text": [
      "2029\n",
      "      record_id docket_number      iid  \\\n",
      "1391       1463           100    100.0   \n",
      "2907       3018           100    100.0   \n",
      "1268       1337           100    100.0   \n",
      "538         551         10100  10100.0   \n",
      "2382       2478          1016   1016.0   \n",
      "\n",
      "                                      unnamed:_3 docassociation unnamed:_5  \\\n",
      "1391  http://www.occ.gov/static/ots/enforcement/          94571       .pdf   \n",
      "2907  http://www.occ.gov/static/ots/enforcement/          97102       .pdf   \n",
      "1268  http://www.occ.gov/static/ots/enforcement/          93646       .pdf   \n",
      "538   http://www.occ.gov/static/ots/enforcement/          93574       .pdf   \n",
      "2382  http://www.occ.gov/static/ots/enforcement/          96124       .pdf   \n",
      "\n",
      "                                             unnamed:_6  \\\n",
      "1391  http://www.occ.gov/static/ots/enforcement/9457...   \n",
      "2907  http://www.occ.gov/static/ots/enforcement/9710...   \n",
      "1268  http://www.occ.gov/static/ots/enforcement/9364...   \n",
      "538   http://www.occ.gov/static/ots/enforcement/9357...   \n",
      "2382  http://www.occ.gov/static/ots/enforcement/9612...   \n",
      "\n",
      "                                             unnamed:_7  \\\n",
      "1391  http://www.occ.gov/static/ots/enforcement/9457...   \n",
      "2907  http://www.occ.gov/static/ots/enforcement/9710...   \n",
      "1268  http://www.occ.gov/static/ots/enforcement/9364...   \n",
      "538   http://www.occ.gov/static/ots/enforcement/9357...   \n",
      "2382  http://www.occ.gov/static/ots/enforcement/9612...   \n",
      "\n",
      "                             link_to_enforcement_action order_number  ...  \\\n",
      "1391  http://www.occ.gov/static/ots/enforcement/9457...    MWR 06-02  ...   \n",
      "2907  http://www.occ.gov/static/ots/enforcement/9710...     WN-09-06  ...   \n",
      "1268  http://www.occ.gov/static/ots/enforcement/9364...    MWR 04-15  ...   \n",
      "538   http://www.occ.gov/static/ots/enforcement/9357...    CHI 94-34  ...   \n",
      "2382  http://www.occ.gov/static/ots/enforcement/9612...           SA  ...   \n",
      "\n",
      "          first_name last_name        city state ots_region  issue_date  \\\n",
      "1391       Kristi B.   Robbins       Paris    TX    Western   2/22/2006   \n",
      "2907       Angela D.     Hobbs       Paris    TX    Western   4/17/2009   \n",
      "1268  Christopher G.   Mallory       Paris    TX    Western   9/21/2004   \n",
      "538         Cloyd A.  Singhass   Cleveland    OH    Central  12/14/1994   \n",
      "2382             NaN       NaN  Cincinnati    OH    Central    2/4/1999   \n",
      "\n",
      "     type_code               type_description type_of_order notes  \n",
      "1391      15.0  Orders of Removal/Prohibition           NaN   NaN  \n",
      "2907      15.0  Orders of Removal/Prohibition           NaN   NaN  \n",
      "1268      15.0  Orders of Removal/Prohibition           NaN   NaN  \n",
      "538       15.0  Orders of Removal/Prohibition   Prohibition   NaN  \n",
      "2382      13.0          Supervisory Agreement           NaN   NaN  \n",
      "\n",
      "[5 rows x 21 columns]\n"
     ]
    }
   ],
   "source": [
    "#create a new df so the old df is unaltered\n",
    "\n",
    "#sorts the new df by docket number\n",
    "enf_df1 = enforcment_df.sort_values('docket_number')\n",
    "\n",
    "#converts emtpy strings to NaN and then drops rows that do not have a Docket Number\n",
    "enf_df1['docket_number'].replace('', np.nan, inplace=True)\n",
    "enf_df1.dropna(subset=['docket_number'], inplace=True)\n",
    "\n",
    "#Gives the size and first columns of the new_enf_df\n",
    "print(len(enf_df1.sort_values('docket_number')))\n",
    "print(enf_df1.head(5))"
   ]
  },
  {
   "cell_type": "code",
   "execution_count": 65,
   "metadata": {},
   "outputs": [
    {
     "name": "stdout",
     "output_type": "stream",
     "text": [
      "837\n",
      "      record_id docket_number      iid  \\\n",
      "1268       1337           100    100.0   \n",
      "538         551         10100  10100.0   \n",
      "1865       1950          1016   1016.0   \n",
      "2436       2533          1039      NaN   \n",
      "1136       1202          1050      NaN   \n",
      "\n",
      "                                      unnamed:_3 docassociation unnamed:_5  \\\n",
      "1268  http://www.occ.gov/static/ots/enforcement/          93646       .pdf   \n",
      "538   http://www.occ.gov/static/ots/enforcement/          93574       .pdf   \n",
      "1865  http://www.occ.gov/static/ots/enforcement/          94759       .pdf   \n",
      "2436  http://www.occ.gov/static/ots/enforcement/          96246       .pdf   \n",
      "1136  http://www.occ.gov/static/ots/enforcement/          93507       .pdf   \n",
      "\n",
      "                                             unnamed:_6  \\\n",
      "1268  http://www.occ.gov/static/ots/enforcement/9364...   \n",
      "538   http://www.occ.gov/static/ots/enforcement/9357...   \n",
      "1865  http://www.occ.gov/static/ots/enforcement/9475...   \n",
      "2436  http://www.occ.gov/static/ots/enforcement/9624...   \n",
      "1136  http://www.occ.gov/static/ots/enforcement/9350...   \n",
      "\n",
      "                                             unnamed:_7  \\\n",
      "1268  http://www.occ.gov/static/ots/enforcement/9364...   \n",
      "538   http://www.occ.gov/static/ots/enforcement/9357...   \n",
      "1865  http://www.occ.gov/static/ots/enforcement/9475...   \n",
      "2436  http://www.occ.gov/static/ots/enforcement/9624...   \n",
      "1136  http://www.occ.gov/static/ots/enforcement/9350...   \n",
      "\n",
      "                             link_to_enforcement_action order_number  ...  \\\n",
      "1268  http://www.occ.gov/static/ots/enforcement/9364...    MWR 04-15  ...   \n",
      "538   http://www.occ.gov/static/ots/enforcement/9357...    CHI 94-34  ...   \n",
      "1865  http://www.occ.gov/static/ots/enforcement/9475...           SA  ...   \n",
      "2436  http://www.occ.gov/static/ots/enforcement/9624...           SA  ...   \n",
      "1136  http://www.occ.gov/static/ots/enforcement/9350...     ATL 94-8  ...   \n",
      "\n",
      "          first_name  last_name        city state ots_region  issue_date  \\\n",
      "1268  Christopher G.    Mallory       Paris    TX    Western   9/21/2004   \n",
      "538         Cloyd A.   Singhass   Cleveland    OH    Central  12/14/1994   \n",
      "1865             NaN        NaN  Cincinnati    OH    Central    2/4/1999   \n",
      "2436             NaN        NaN     Norwich    CT  Northeast   4/14/1992   \n",
      "1136        James M.  Henderson   Salisbury    NC  Southeast    6/2/1994   \n",
      "\n",
      "     type_code               type_description type_of_order notes  \n",
      "1268      15.0  Orders of Removal/Prohibition           NaN   NaN  \n",
      "538       15.0  Orders of Removal/Prohibition   Prohibition   NaN  \n",
      "1865      13.0          Supervisory Agreement           NaN   NaN  \n",
      "2436      13.0          Supervisory Agreement           NaN   NaN  \n",
      "1136       6.0               Cease and Desist           NaN   NaN  \n",
      "\n",
      "[5 rows x 21 columns]\n"
     ]
    }
   ],
   "source": [
    "#drops duplicates and adds 2 new colums to the new_enf_df\n",
    "\n",
    "short_enf_df = enf_df1.drop_duplicates(subset=['docket_number'], keep='last')\n",
    "#short_enf_df = short_enf_df.reindex(columns = new_enf_df.columns.tolist() + ['Number_of_Violations','Unique_Violations'])\n",
    "\n",
    "#Gives the size and first columns of the short_enf_df\n",
    "print(len(short_enf_df))\n",
    "print(short_enf_df.head())"
   ]
  },
  {
   "cell_type": "code",
   "execution_count": 66,
   "metadata": {},
   "outputs": [
    {
     "name": "stdout",
     "output_type": "stream",
     "text": [
      "    docket_number  total_violations\n",
      "0             100                 3\n",
      "1           10100                 1\n",
      "2            1016                 2\n",
      "3            1039                 3\n",
      "4            1050                 1\n",
      "..            ...               ...\n",
      "832           940                 1\n",
      "833          9419                 3\n",
      "834          9499                 1\n",
      "835           966                 3\n",
      "836         XXXXX                 2\n",
      "\n",
      "[837 rows x 2 columns]\n"
     ]
    }
   ],
   "source": [
    "violation_count_df = enf_df1.pivot_table(index = ['docket_number'], aggfunc ='size')\n",
    "vc_df = violation_count_df.reset_index()\n",
    "vc_df.columns = ['docket_number', 'total_violations']\n",
    "print(vc_df)"
   ]
  },
  {
   "cell_type": "code",
   "execution_count": 67,
   "metadata": {},
   "outputs": [
    {
     "name": "stdout",
     "output_type": "stream",
     "text": [
      "     docket_number  issue_date  violations\n",
      "0              100   2/22/2006           1\n",
      "1              100   4/17/2009           1\n",
      "2              100   9/21/2004           1\n",
      "3            10100  12/14/1994           1\n",
      "4             1016    2/4/1999           2\n",
      "...            ...         ...         ...\n",
      "1573          9499   1/10/1996           1\n",
      "1574           966  12/31/2009           1\n",
      "1575           966    4/4/2008           1\n",
      "1576           966   5/29/2009           1\n",
      "1577         XXXXX   4/13/2011           2\n",
      "\n",
      "[1578 rows x 3 columns]\n"
     ]
    }
   ],
   "source": [
    "unique_violation_count_df = enf_df1.pivot_table(index = ['docket_number', \"issue_date\"], aggfunc ='size')\n",
    "uvc_df = unique_violation_count_df.reset_index()\n",
    "uvc_df.columns = ['docket_number', 'issue_date', 'violations']\n",
    "print(uvc_df)"
   ]
  },
  {
   "cell_type": "code",
   "execution_count": 68,
   "metadata": {},
   "outputs": [
    {
     "name": "stdout",
     "output_type": "stream",
     "text": [
      "    docket_number  unique_violations\n",
      "0             100                  3\n",
      "1           10100                  1\n",
      "2            1016                  2\n",
      "3            1039                  3\n",
      "4            1050                  1\n",
      "..            ...                ...\n",
      "832           940                  1\n",
      "833          9419                  3\n",
      "834          9499                  1\n",
      "835           966                  3\n",
      "836         XXXXX                  2\n",
      "\n",
      "[837 rows x 2 columns]\n"
     ]
    }
   ],
   "source": [
    "final_uvc_df = uvc_df.pivot_table(index = ['docket_number'], aggfunc ='size')\n",
    "fvc_df = violation_count_df.reset_index()\n",
    "fvc_df.columns = ['docket_number', 'unique_violations']\n",
    "print(fvc_df)"
   ]
  },
  {
   "cell_type": "code",
   "execution_count": 69,
   "metadata": {},
   "outputs": [
    {
     "name": "stdout",
     "output_type": "stream",
     "text": [
      "    docket_number  total_violations  unique_violations\n",
      "0             100                 3                  3\n",
      "1           10100                 1                  1\n",
      "2            1016                 2                  2\n",
      "3            1039                 3                  3\n",
      "4            1050                 1                  1\n",
      "..            ...               ...                ...\n",
      "832           940                 1                  1\n",
      "833          9419                 3                  3\n",
      "834          9499                 1                  1\n",
      "835           966                 3                  3\n",
      "836         XXXXX                 2                  2\n",
      "\n",
      "[837 rows x 3 columns]\n"
     ]
    }
   ],
   "source": [
    "violation_stats_df = vc_df.merge(fvc_df)\n",
    "print(violation_stats_df)"
   ]
  },
  {
   "cell_type": "code",
   "execution_count": 70,
   "metadata": {},
   "outputs": [
    {
     "name": "stdout",
     "output_type": "stream",
     "text": [
      "<bound method NDFrame.head of      record_id docket_number      iid  \\\n",
      "0         1337           100    100.0   \n",
      "1          551         10100  10100.0   \n",
      "2         1950          1016   1016.0   \n",
      "3         2533          1039      NaN   \n",
      "4         1202          1050      NaN   \n",
      "..         ...           ...      ...   \n",
      "832       1401           940    940.0   \n",
      "833       1183          9419      NaN   \n",
      "834       1015          9499      NaN   \n",
      "835       3214           966    966.0   \n",
      "836       3588         XXXXX      NaN   \n",
      "\n",
      "                                     unnamed:_3 docassociation unnamed:_5  \\\n",
      "0    http://www.occ.gov/static/ots/enforcement/          93646       .pdf   \n",
      "1    http://www.occ.gov/static/ots/enforcement/          93574       .pdf   \n",
      "2    http://www.occ.gov/static/ots/enforcement/          94759       .pdf   \n",
      "3    http://www.occ.gov/static/ots/enforcement/          96246       .pdf   \n",
      "4    http://www.occ.gov/static/ots/enforcement/          93507       .pdf   \n",
      "..                                          ...            ...        ...   \n",
      "832  http://www.occ.gov/static/ots/enforcement/          93699       .pdf   \n",
      "833  http://www.occ.gov/static/ots/enforcement/          93465       .pdf   \n",
      "834  http://www.occ.gov/static/ots/enforcement/          93247       .pdf   \n",
      "835  http://www.occ.gov/static/ots/enforcement/          97295       .pdf   \n",
      "836  http://www.occ.gov/static/ots/enforcement/          97668       .pdf   \n",
      "\n",
      "                                            unnamed:_6  \\\n",
      "0    http://www.occ.gov/static/ots/enforcement/9364...   \n",
      "1    http://www.occ.gov/static/ots/enforcement/9357...   \n",
      "2    http://www.occ.gov/static/ots/enforcement/9475...   \n",
      "3    http://www.occ.gov/static/ots/enforcement/9624...   \n",
      "4    http://www.occ.gov/static/ots/enforcement/9350...   \n",
      "..                                                 ...   \n",
      "832  http://www.occ.gov/static/ots/enforcement/9369...   \n",
      "833  http://www.occ.gov/static/ots/enforcement/9346...   \n",
      "834  http://www.occ.gov/static/ots/enforcement/9324...   \n",
      "835  http://www.occ.gov/static/ots/enforcement/9729...   \n",
      "836  http://www.occ.gov/static/ots/enforcement/9766...   \n",
      "\n",
      "                                            unnamed:_7  \\\n",
      "0    http://www.occ.gov/static/ots/enforcement/9364...   \n",
      "1    http://www.occ.gov/static/ots/enforcement/9357...   \n",
      "2    http://www.occ.gov/static/ots/enforcement/9475...   \n",
      "3    http://www.occ.gov/static/ots/enforcement/9624...   \n",
      "4    http://www.occ.gov/static/ots/enforcement/9350...   \n",
      "..                                                 ...   \n",
      "832  http://www.occ.gov/static/ots/enforcement/9369...   \n",
      "833  http://www.occ.gov/static/ots/enforcement/9346...   \n",
      "834  http://www.occ.gov/static/ots/enforcement/9324...   \n",
      "835  http://www.occ.gov/static/ots/enforcement/9729...   \n",
      "836  http://www.occ.gov/static/ots/enforcement/9766...   \n",
      "\n",
      "                            link_to_enforcement_action order_number  ...  \\\n",
      "0    http://www.occ.gov/static/ots/enforcement/9364...    MWR 04-15  ...   \n",
      "1    http://www.occ.gov/static/ots/enforcement/9357...    CHI 94-34  ...   \n",
      "2    http://www.occ.gov/static/ots/enforcement/9475...           SA  ...   \n",
      "3    http://www.occ.gov/static/ots/enforcement/9624...           SA  ...   \n",
      "4    http://www.occ.gov/static/ots/enforcement/9350...     ATL 94-8  ...   \n",
      "..                                                 ...          ...  ...   \n",
      "832  http://www.occ.gov/static/ots/enforcement/9369...     NE 05-05  ...   \n",
      "833  http://www.occ.gov/static/ots/enforcement/9346...     AP 94-15  ...   \n",
      "834  http://www.occ.gov/static/ots/enforcement/9324...      NE 96-1  ...   \n",
      "835  http://www.occ.gov/static/ots/enforcement/9729...     CN 09-46  ...   \n",
      "836  http://www.occ.gov/static/ots/enforcement/9766...    DC 11-040  ...   \n",
      "\n",
      "                city state ots_region  issue_date type_code  \\\n",
      "0              Paris    TX    Western   9/21/2004      15.0   \n",
      "1          Cleveland    OH    Central  12/14/1994      15.0   \n",
      "2         Cincinnati    OH    Central    2/4/1999      13.0   \n",
      "3            Norwich    CT  Northeast   4/14/1992      13.0   \n",
      "4          Salisbury    NC  Southeast    6/2/1994       6.0   \n",
      "..               ...   ...        ...         ...       ...   \n",
      "832           Sewell    NJ  Northeast    5/2/2005      15.0   \n",
      "833  West Palm Beach    CA    Western   3/14/1994       6.0   \n",
      "834       Middletwon    NJ  Northeast   1/10/1996       6.0   \n",
      "835         Hastings    MI    Central  12/31/2009      11.0   \n",
      "836           Reston    VA  Southeast   4/13/2011       6.0   \n",
      "\n",
      "                  type_description type_of_order          notes  \\\n",
      "0    Orders of Removal/Prohibition           NaN            NaN   \n",
      "1    Orders of Removal/Prohibition   Prohibition            NaN   \n",
      "2            Supervisory Agreement           NaN            NaN   \n",
      "3            Supervisory Agreement           NaN            NaN   \n",
      "4                 Cease and Desist           NaN            NaN   \n",
      "..                             ...           ...            ...   \n",
      "832  Orders of Removal/Prohibition           NaN            NaN   \n",
      "833               Cease and Desist           NaN            NaN   \n",
      "834               Cease and Desist           NaN            NaN   \n",
      "835       Prompt Corrective Action           NaN            NaN   \n",
      "836               Cease and Desist           NaN  Consent Order   \n",
      "\n",
      "    total_violations unique_violations  \n",
      "0                  3                 3  \n",
      "1                  1                 1  \n",
      "2                  2                 2  \n",
      "3                  3                 3  \n",
      "4                  1                 1  \n",
      "..               ...               ...  \n",
      "832                1                 1  \n",
      "833                3                 3  \n",
      "834                1                 1  \n",
      "835                3                 3  \n",
      "836                2                 2  \n",
      "\n",
      "[837 rows x 23 columns]>\n"
     ]
    }
   ],
   "source": [
    "final_enf_df = short_enf_df.merge(violation_stats_df)\n",
    "print(final_enf_df.head)"
   ]
  },
  {
   "cell_type": "code",
   "execution_count": 71,
   "metadata": {},
   "outputs": [
    {
     "ename": "NameError",
     "evalue": "name 'kc1_df' is not defined",
     "output_type": "error",
     "traceback": [
      "\u001b[1;31m---------------------------------------------------------------------------\u001b[0m",
      "\u001b[1;31mNameError\u001b[0m                                 Traceback (most recent call last)",
      "Cell \u001b[1;32mIn[71], line 1\u001b[0m\n\u001b[1;32m----> 1\u001b[0m kc1_df[\u001b[39m'\u001b[39m\u001b[39mdocket\u001b[39m\u001b[39m'\u001b[39m] \u001b[39m=\u001b[39m kc1_df[\u001b[39m'\u001b[39m\u001b[39mdocket\u001b[39m\u001b[39m'\u001b[39m]\u001b[39m.\u001b[39mastype(\u001b[39mstr\u001b[39m)\n\u001b[0;32m      2\u001b[0m final_df \u001b[39m=\u001b[39m kc1_df\u001b[39m.\u001b[39mmerge(final_enf_df, how\u001b[39m=\u001b[39m\u001b[39m'\u001b[39m\u001b[39mleft\u001b[39m\u001b[39m'\u001b[39m, left_on\u001b[39m=\u001b[39m\u001b[39m'\u001b[39m\u001b[39mdocket\u001b[39m\u001b[39m'\u001b[39m, right_on\u001b[39m=\u001b[39m\u001b[39m'\u001b[39m\u001b[39mdocket_number\u001b[39m\u001b[39m'\u001b[39m)\n\u001b[0;32m      3\u001b[0m \u001b[39mprint\u001b[39m(final_df\u001b[39m.\u001b[39mhead)\n",
      "\u001b[1;31mNameError\u001b[0m: name 'kc1_df' is not defined"
     ]
    }
   ],
   "source": [
    "kc1_df['docket'] = kc1_df['docket'].astype(str)\n",
    "final_df = kc1_df.merge(final_enf_df, how='left', left_on='docket', right_on='docket_number')\n",
    "print(final_df.head)"
   ]
  },
  {
   "cell_type": "code",
   "execution_count": null,
   "metadata": {},
   "outputs": [],
   "source": [
    "#drop o-v\n",
    "#drop cj-dd\n",
    "#"
   ]
  }
 ],
 "metadata": {
  "kernelspec": {
   "display_name": "Python 3.10.9 64-bit (microsoft store)",
   "language": "python",
   "name": "python3"
  },
  "language_info": {
   "codemirror_mode": {
    "name": "ipython",
    "version": 3
   },
   "file_extension": ".py",
   "mimetype": "text/x-python",
   "name": "python",
   "nbconvert_exporter": "python",
   "pygments_lexer": "ipython3",
   "version": "3.10.10"
  },
  "orig_nbformat": 4,
  "vscode": {
   "interpreter": {
    "hash": "c0589475581bafe2bbc330412b8cf2cd44fed02eacf7679fc9db622cc240f316"
   }
  }
 },
 "nbformat": 4,
 "nbformat_minor": 2
}
