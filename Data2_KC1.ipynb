{
 "cells": [
  {
   "cell_type": "code",
   "execution_count": 18,
   "metadata": {},
   "outputs": [],
   "source": [
    "import pandas as pd \n",
    "import requests\n",
    "from pandas import json_normalize"
   ]
  },
  {
   "attachments": {},
   "cell_type": "markdown",
   "metadata": {},
   "source": [
    "1. THE THREE CELLS BELOW ARE API REQUESTS"
   ]
  },
  {
   "cell_type": "code",
   "execution_count": 19,
   "metadata": {},
   "outputs": [
    {
     "name": "stdout",
     "output_type": "stream",
     "text": [
      "200\n"
     ]
    }
   ],
   "source": [
    "response_API = requests.get('https://banks.data.fdic.gov/api/institutions?limit=10000&offset=0')\n",
    "print(response_API.status_code)"
   ]
  },
  {
   "cell_type": "code",
   "execution_count": 20,
   "metadata": {},
   "outputs": [
    {
     "name": "stdout",
     "output_type": "stream",
     "text": [
      "200\n"
     ]
    }
   ],
   "source": [
    "response_API2 = requests.get('https://banks.data.fdic.gov/api/institutions?limit=10000&offset=10000')\n",
    "print(response_API2.status_code)"
   ]
  },
  {
   "cell_type": "code",
   "execution_count": 21,
   "metadata": {},
   "outputs": [
    {
     "name": "stdout",
     "output_type": "stream",
     "text": [
      "200\n"
     ]
    }
   ],
   "source": [
    "response_API3 = requests.get('https://banks.data.fdic.gov/api/institutions?limit=10000&offset=20000')\n",
    "print(response_API3.status_code)"
   ]
  },
  {
   "cell_type": "code",
   "execution_count": 22,
   "metadata": {},
   "outputs": [
    {
     "name": "stdout",
     "output_type": "stream",
     "text": [
      "<class 'dict'>\n"
     ]
    }
   ],
   "source": [
    "data = response_API.json()\n",
    "print(type(data))\n"
   ]
  },
  {
   "cell_type": "code",
   "execution_count": 23,
   "metadata": {},
   "outputs": [
    {
     "name": "stdout",
     "output_type": "stream",
     "text": [
      "<class 'dict'>\n"
     ]
    }
   ],
   "source": [
    "data2 = response_API2.json()\n",
    "print(type(data2))"
   ]
  },
  {
   "cell_type": "code",
   "execution_count": 24,
   "metadata": {},
   "outputs": [
    {
     "name": "stdout",
     "output_type": "stream",
     "text": [
      "<class 'dict'>\n"
     ]
    }
   ],
   "source": [
    "data3 = response_API3.json()\n",
    "print(type(data3))"
   ]
  },
  {
   "cell_type": "code",
   "execution_count": 25,
   "metadata": {},
   "outputs": [],
   "source": [
    "institution_df = json_normalize(data['data'])\n",
    "#print(institution_df.head())\n",
    "#institution_df.to_csv('inst.csv')\n",
    "\n",
    "institution_df2 = json_normalize(data2['data'])\n",
    "#print(institution_df2.head())\n",
    "#institution_df2.to_csv('inst2.csv')\n",
    "\n",
    "institution_df3 = json_normalize(data3['data'])\n",
    "#print(institution_df3.head())\n",
    "#institution_df3.to_csv('inst3.csv')"
   ]
  },
  {
   "cell_type": "code",
   "execution_count": 26,
   "metadata": {},
   "outputs": [],
   "source": [
    "institution_df = institution_df.reindex(sorted(institution_df.columns), axis=1)\n",
    "institution_df2 = institution_df2.reindex(sorted(institution_df2.columns), axis=1)\n",
    "institution_df3 = institution_df3.reindex(sorted(institution_df3.columns), axis=1)"
   ]
  },
  {
   "cell_type": "code",
   "execution_count": 27,
   "metadata": {},
   "outputs": [],
   "source": [
    "#full_df = institution_df.append(institution_df.append(institution_df3))\n",
    "#.append is being deprecated - use .concat instead"
   ]
  },
  {
   "cell_type": "code",
   "execution_count": 28,
   "metadata": {},
   "outputs": [
    {
     "name": "stdout",
     "output_type": "stream",
     "text": [
      "(27816, 168)\n"
     ]
    }
   ],
   "source": [
    "full_data = [institution_df, institution_df2, institution_df3]\n",
    "df = pd.concat(full_data)\n",
    "df.columns = df.columns.str.lstrip(\"data.\")\n",
    "#df.to_csv('inst_full.csv')\n",
    "print(df.shape)"
   ]
  },
  {
   "attachments": {},
   "cell_type": "markdown",
   "metadata": {},
   "source": [
    "2. HERE ARE THREE STATISTICS ABOUT THIS DATA"
   ]
  },
  {
   "cell_type": "code",
   "execution_count": 29,
   "metadata": {},
   "outputs": [
    {
     "name": "stdout",
     "output_type": "stream",
     "text": [
      "There are 27816 institutuions with data on the FDIC's API.\n",
      "\n",
      "There are 23098 active institutions registered with the FDIC.\n",
      "\n",
      "There are 4718 inactive institutions registered with the FDIC.\n",
      "\n"
     ]
    }
   ],
   "source": [
    "bank_count = len(df)\n",
    "print(\"There are\", bank_count, \"institutuions with data on the FDIC's API.\\n\")\n",
    "\n",
    "active = df['ACTIVE'].value_counts()[0]\n",
    "print(\"There are\", active, \"active institutions registered with the FDIC.\\n\")\n",
    "\n",
    "inactive = df['ACTIVE'].value_counts()[1]\n",
    "print(\"There are\", inactive, \"inactive institutions registered with the FDIC.\\n\")"
   ]
  },
  {
   "attachments": {},
   "cell_type": "markdown",
   "metadata": {},
   "source": [
    "2. HERE ARE THREE MORE STATISTICS ABOUT THIS DATA"
   ]
  },
  {
   "cell_type": "code",
   "execution_count": 30,
   "metadata": {},
   "outputs": [
    {
     "name": "stdout",
     "output_type": "stream",
     "text": [
      "The minimum assets held by an FDIC registered institution are $1.0 \n",
      "\n",
      "The maximum assets held by an FDIC registered institution are $3308575000.0 \n",
      "\n",
      "The average assets held by an FDIC registered institution are $1618986.53 \n",
      "\n"
     ]
    }
   ],
   "source": [
    "min = df[\"ASSET\"].min()\n",
    "max = df[\"ASSET\"].max()\n",
    "mean = df[\"ASSET\"].mean().round(2)\n",
    "\n",
    "print(\"The minimum assets held by an FDIC registered institution are ${} \\n\".format(min))\n",
    "print(\"The maximum assets held by an FDIC registered institution are ${} \\n\".format(max))\n",
    "print(\"The average assets held by an FDIC registered institution are ${} \\n\".format(mean))"
   ]
  },
  {
   "attachments": {},
   "cell_type": "markdown",
   "metadata": {},
   "source": [
    "3. HERE IS A QUERY"
   ]
  },
  {
   "cell_type": "code",
   "execution_count": 31,
   "metadata": {},
   "outputs": [],
   "source": [
    "kc1_df = df.query(\"`ASSET` >= 610000 and `ASSET` <= 2610000\")"
   ]
  },
  {
   "attachments": {},
   "cell_type": "markdown",
   "metadata": {},
   "source": [
    "4. HERE ARE THE SECOND AND THIRD COLUMNS OF THE NEW DF"
   ]
  },
  {
   "cell_type": "code",
   "execution_count": 32,
   "metadata": {},
   "outputs": [
    {
     "name": "stdout",
     "output_type": "stream",
     "text": [
      "                     ADDRESS ADDRESS2\n",
      "1          201 N.E. A Street         \n",
      "9         524 Genesee Street         \n",
      "19    205 South Fifth Street         \n",
      "26     230 West State Street         \n",
      "32             130 S Main St         \n",
      "...                      ...      ...\n",
      "7789          50 Franklin St         \n",
      "7791             102 W Front         \n",
      "7797   1100 Louisiana Street         \n",
      "7800          200 E Nopal St         \n",
      "7802        3000 Lee Highway         \n",
      "\n",
      "[2768 rows x 2 columns]\n"
     ]
    }
   ],
   "source": [
    "print(kc1_df.iloc[:, [1, 2]])"
   ]
  },
  {
   "attachments": {},
   "cell_type": "markdown",
   "metadata": {},
   "source": [
    "5. HERE ARE THE FIRST FOUR ROWS OF THE NEW DF"
   ]
  },
  {
   "cell_type": "code",
   "execution_count": 33,
   "metadata": {},
   "outputs": [
    {
     "name": "stdout",
     "output_type": "stream",
     "text": [
      "    ACTIVE                 ADDRESS ADDRESS2      ASSET BKCLASS  CALLFORM CB  \\\n",
      "1        0       201 N.E. A Street            712714.0      SM      41.0  0   \n",
      "9        0      524 Genesee Street            711480.0      NM      32.0  0   \n",
      "19       0  205 South Fifth Street           2074657.0      NM      32.0  0   \n",
      "26       0   230 West State Street            632842.0       N      41.0  1   \n",
      "\n",
      "                                  CBSA   CBSA_DIV CBSA_DIV_FLG  ... ULTCERT  \\\n",
      "1   Fayetteville-Springdale-Rogers, AR                       0  ...    8728   \n",
      "9               Milwaukee-Waukesha, WI                       0  ...     628   \n",
      "19                     Springfield, IL                       0  ...    6548   \n",
      "26  Chicago-Naperville-Elgin, IL-IN-WI  Elgin, IL            1  ...    3832   \n",
      "\n",
      "   UNINUM WEBADDR    ZIP count score  CHANGEC12 CHANGEC13 CHANGEC14  CHANGEC15  \n",
      "1      80          72712   NaN     1        NaN       NaN       NaN        NaN  \n",
      "9    6399          53018   NaN     1        NaN       NaN       NaN        NaN  \n",
      "19   6408          62701   NaN     1        NaN       NaN       NaN        NaN  \n",
      "26   6414          60178   NaN     1        NaN       NaN       NaN        NaN  \n",
      "\n",
      "[4 rows x 168 columns]\n"
     ]
    }
   ],
   "source": [
    "print(kc1_df.head(4))"
   ]
  }
 ],
 "metadata": {
  "kernelspec": {
   "display_name": "Python 3.10.9 64-bit (microsoft store)",
   "language": "python",
   "name": "python3"
  },
  "language_info": {
   "codemirror_mode": {
    "name": "ipython",
    "version": 3
   },
   "file_extension": ".py",
   "mimetype": "text/x-python",
   "name": "python",
   "nbconvert_exporter": "python",
   "pygments_lexer": "ipython3",
   "version": "3.10.10"
  },
  "orig_nbformat": 4,
  "vscode": {
   "interpreter": {
    "hash": "c0589475581bafe2bbc330412b8cf2cd44fed02eacf7679fc9db622cc240f316"
   }
  }
 },
 "nbformat": 4,
 "nbformat_minor": 2
}
